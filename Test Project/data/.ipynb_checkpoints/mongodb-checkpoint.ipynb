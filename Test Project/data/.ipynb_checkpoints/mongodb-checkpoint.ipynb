{
 "cells": [
  {
   "cell_type": "code",
   "execution_count": 1,
   "id": "83f7247b",
   "metadata": {},
   "outputs": [],
   "source": [
    "import pandas as pd\n",
    "import pymongo\n",
    "from pymongo import MongoClient"
   ]
  },
  {
   "cell_type": "code",
   "execution_count": 7,
   "id": "b4ed9332",
   "metadata": {},
   "outputs": [],
   "source": [
    "conn = 'mongodb://127.0.0.1:27017'"
   ]
  },
  {
   "cell_type": "code",
   "execution_count": 8,
   "id": "3e8f0485",
   "metadata": {},
   "outputs": [],
   "source": [
    "client = pymongo.MongoClient(conn)"
   ]
  },
  {
   "cell_type": "code",
   "execution_count": 9,
   "id": "6592765a",
   "metadata": {},
   "outputs": [],
   "source": [
    "db = client.vaccDB"
   ]
  },
  {
   "cell_type": "code",
   "execution_count": 17,
   "id": "17eaa0b9",
   "metadata": {},
   "outputs": [],
   "source": [
    "census = db.census"
   ]
  },
  {
   "cell_type": "code",
   "execution_count": 10,
   "id": "619e5376",
   "metadata": {},
   "outputs": [],
   "source": [
    "census_data = \"census_data.csv\""
   ]
  },
  {
   "cell_type": "code",
   "execution_count": 14,
   "id": "db9cdc40",
   "metadata": {},
   "outputs": [
    {
     "data": {
      "text/html": [
       "<div>\n",
       "<style scoped>\n",
       "    .dataframe tbody tr th:only-of-type {\n",
       "        vertical-align: middle;\n",
       "    }\n",
       "\n",
       "    .dataframe tbody tr th {\n",
       "        vertical-align: top;\n",
       "    }\n",
       "\n",
       "    .dataframe thead th {\n",
       "        text-align: right;\n",
       "    }\n",
       "</style>\n",
       "<table border=\"1\" class=\"dataframe\">\n",
       "  <thead>\n",
       "    <tr style=\"text-align: right;\">\n",
       "      <th></th>\n",
       "      <th>State</th>\n",
       "      <th>Total Population</th>\n",
       "      <th>Median Household Income</th>\n",
       "      <th>Total Labor Force</th>\n",
       "      <th>Total Unemployed</th>\n",
       "      <th>Total Poverty</th>\n",
       "      <th>State Number</th>\n",
       "      <th>Poverty Rate</th>\n",
       "      <th>Unemployment Rate</th>\n",
       "    </tr>\n",
       "  </thead>\n",
       "  <tbody>\n",
       "    <tr>\n",
       "      <th>0</th>\n",
       "      <td>Alabama</td>\n",
       "      <td>4876250.0</td>\n",
       "      <td>50536.0</td>\n",
       "      <td>2242785.0</td>\n",
       "      <td>132095.0</td>\n",
       "      <td>795989.0</td>\n",
       "      <td>1</td>\n",
       "      <td>16.323794</td>\n",
       "      <td>5.889775</td>\n",
       "    </tr>\n",
       "    <tr>\n",
       "      <th>1</th>\n",
       "      <td>Alaska</td>\n",
       "      <td>737068.0</td>\n",
       "      <td>77640.0</td>\n",
       "      <td>392338.0</td>\n",
       "      <td>26808.0</td>\n",
       "      <td>76933.0</td>\n",
       "      <td>2</td>\n",
       "      <td>10.437707</td>\n",
       "      <td>6.832884</td>\n",
       "    </tr>\n",
       "    <tr>\n",
       "      <th>2</th>\n",
       "      <td>Arizona</td>\n",
       "      <td>7050299.0</td>\n",
       "      <td>58945.0</td>\n",
       "      <td>3346155.0</td>\n",
       "      <td>195905.0</td>\n",
       "      <td>1043764.0</td>\n",
       "      <td>4</td>\n",
       "      <td>14.804535</td>\n",
       "      <td>5.854630</td>\n",
       "    </tr>\n",
       "    <tr>\n",
       "      <th>3</th>\n",
       "      <td>Arkansas</td>\n",
       "      <td>2999370.0</td>\n",
       "      <td>47597.0</td>\n",
       "      <td>1378722.0</td>\n",
       "      <td>70481.0</td>\n",
       "      <td>496260.0</td>\n",
       "      <td>5</td>\n",
       "      <td>16.545475</td>\n",
       "      <td>5.112053</td>\n",
       "    </tr>\n",
       "    <tr>\n",
       "      <th>4</th>\n",
       "      <td>California</td>\n",
       "      <td>39283497.0</td>\n",
       "      <td>75235.0</td>\n",
       "      <td>19921547.0</td>\n",
       "      <td>1199233.0</td>\n",
       "      <td>5149742.0</td>\n",
       "      <td>6</td>\n",
       "      <td>13.109174</td>\n",
       "      <td>6.019778</td>\n",
       "    </tr>\n",
       "  </tbody>\n",
       "</table>\n",
       "</div>"
      ],
      "text/plain": [
       "        State  Total Population  Median Household Income  Total Labor Force  \\\n",
       "0     Alabama         4876250.0                  50536.0          2242785.0   \n",
       "1      Alaska          737068.0                  77640.0           392338.0   \n",
       "2     Arizona         7050299.0                  58945.0          3346155.0   \n",
       "3    Arkansas         2999370.0                  47597.0          1378722.0   \n",
       "4  California        39283497.0                  75235.0         19921547.0   \n",
       "\n",
       "   Total Unemployed  Total Poverty  State Number  Poverty Rate  \\\n",
       "0          132095.0       795989.0             1     16.323794   \n",
       "1           26808.0        76933.0             2     10.437707   \n",
       "2          195905.0      1043764.0             4     14.804535   \n",
       "3           70481.0       496260.0             5     16.545475   \n",
       "4         1199233.0      5149742.0             6     13.109174   \n",
       "\n",
       "   Unemployment Rate  \n",
       "0           5.889775  \n",
       "1           6.832884  \n",
       "2           5.854630  \n",
       "3           5.112053  \n",
       "4           6.019778  "
      ]
     },
     "execution_count": 14,
     "metadata": {},
     "output_type": "execute_result"
    }
   ],
   "source": [
    "census_df = pd.read_csv(census_data)\n",
    "census_df.head()"
   ]
  },
  {
   "cell_type": "code",
   "execution_count": 16,
   "id": "5570af67",
   "metadata": {},
   "outputs": [],
   "source": [
    "census_dict = census_df.to_dict(\"records\")"
   ]
  },
  {
   "cell_type": "code",
   "execution_count": 18,
   "id": "361eaef8",
   "metadata": {},
   "outputs": [
    {
     "data": {
      "text/plain": [
       "<pymongo.results.InsertManyResult at 0x7f9478330040>"
      ]
     },
     "execution_count": 18,
     "metadata": {},
     "output_type": "execute_result"
    }
   ],
   "source": [
    "census.insert_many(census_dict)"
   ]
  },
  {
   "cell_type": "code",
   "execution_count": 20,
   "id": "3a2c7b88",
   "metadata": {},
   "outputs": [],
   "source": [
    "#results = census.find()\n",
    "#for result in results:\n",
    "    #print(result)"
   ]
  },
  {
   "cell_type": "code",
   "execution_count": 23,
   "id": "711a5b0d",
   "metadata": {},
   "outputs": [],
   "source": [
    "state_vacc = \"state_vacc.csv\""
   ]
  },
  {
   "cell_type": "code",
   "execution_count": 24,
   "id": "468effe0",
   "metadata": {
    "scrolled": true
   },
   "outputs": [
    {
     "data": {
      "text/html": [
       "<div>\n",
       "<style scoped>\n",
       "    .dataframe tbody tr th:only-of-type {\n",
       "        vertical-align: middle;\n",
       "    }\n",
       "\n",
       "    .dataframe tbody tr th {\n",
       "        vertical-align: top;\n",
       "    }\n",
       "\n",
       "    .dataframe thead th {\n",
       "        text-align: right;\n",
       "    }\n",
       "</style>\n",
       "<table border=\"1\" class=\"dataframe\">\n",
       "  <thead>\n",
       "    <tr style=\"text-align: right;\">\n",
       "      <th></th>\n",
       "      <th>date</th>\n",
       "      <th>state</th>\n",
       "      <th>total vaccines distributed</th>\n",
       "      <th>total vaccines administered</th>\n",
       "      <th>total vaccinated</th>\n",
       "      <th>pct vaccinated</th>\n",
       "      <th>boosters administered</th>\n",
       "      <th>additional_doses_vax_pct</th>\n",
       "    </tr>\n",
       "  </thead>\n",
       "  <tbody>\n",
       "    <tr>\n",
       "      <th>0</th>\n",
       "      <td>2021-10-25</td>\n",
       "      <td>ME</td>\n",
       "      <td>2302770</td>\n",
       "      <td>1919012</td>\n",
       "      <td>942546</td>\n",
       "      <td>70.1</td>\n",
       "      <td>68073</td>\n",
       "      <td>7.2</td>\n",
       "    </tr>\n",
       "    <tr>\n",
       "      <th>1</th>\n",
       "      <td>2021-10-25</td>\n",
       "      <td>RI</td>\n",
       "      <td>1794565</td>\n",
       "      <td>1536391</td>\n",
       "      <td>746384</td>\n",
       "      <td>70.5</td>\n",
       "      <td>54771</td>\n",
       "      <td>7.3</td>\n",
       "    </tr>\n",
       "    <tr>\n",
       "      <th>2</th>\n",
       "      <td>2021-10-25</td>\n",
       "      <td>MS</td>\n",
       "      <td>4009685</td>\n",
       "      <td>2930327</td>\n",
       "      <td>1348772</td>\n",
       "      <td>45.3</td>\n",
       "      <td>94057</td>\n",
       "      <td>7.0</td>\n",
       "    </tr>\n",
       "    <tr>\n",
       "      <th>3</th>\n",
       "      <td>2021-10-25</td>\n",
       "      <td>NC</td>\n",
       "      <td>15385870</td>\n",
       "      <td>12122081</td>\n",
       "      <td>5486743</td>\n",
       "      <td>52.3</td>\n",
       "      <td>276639</td>\n",
       "      <td>5.0</td>\n",
       "    </tr>\n",
       "    <tr>\n",
       "      <th>4</th>\n",
       "      <td>2021-10-25</td>\n",
       "      <td>NV</td>\n",
       "      <td>4254060</td>\n",
       "      <td>3580718</td>\n",
       "      <td>1618862</td>\n",
       "      <td>52.6</td>\n",
       "      <td>100396</td>\n",
       "      <td>6.2</td>\n",
       "    </tr>\n",
       "  </tbody>\n",
       "</table>\n",
       "</div>"
      ],
      "text/plain": [
       "         date state  total vaccines distributed  total vaccines administered  \\\n",
       "0  2021-10-25    ME                     2302770                      1919012   \n",
       "1  2021-10-25    RI                     1794565                      1536391   \n",
       "2  2021-10-25    MS                     4009685                      2930327   \n",
       "3  2021-10-25    NC                    15385870                     12122081   \n",
       "4  2021-10-25    NV                     4254060                      3580718   \n",
       "\n",
       "   total vaccinated  pct vaccinated  boosters administered  \\\n",
       "0            942546            70.1                  68073   \n",
       "1            746384            70.5                  54771   \n",
       "2           1348772            45.3                  94057   \n",
       "3           5486743            52.3                 276639   \n",
       "4           1618862            52.6                 100396   \n",
       "\n",
       "   additional_doses_vax_pct  \n",
       "0                       7.2  \n",
       "1                       7.3  \n",
       "2                       7.0  \n",
       "3                       5.0  \n",
       "4                       6.2  "
      ]
     },
     "execution_count": 24,
     "metadata": {},
     "output_type": "execute_result"
    }
   ],
   "source": [
    "state_vacc_df = pd.read_csv(state_vacc)\n",
    "state_vacc_df.head()"
   ]
  },
  {
   "cell_type": "code",
   "execution_count": 25,
   "id": "80abb76e",
   "metadata": {},
   "outputs": [],
   "source": [
    "state = db.state"
   ]
  },
  {
   "cell_type": "code",
   "execution_count": 26,
   "id": "4b7fd6c3",
   "metadata": {},
   "outputs": [],
   "source": [
    "state_dict = state_vacc_df.to_dict(\"records\")"
   ]
  },
  {
   "cell_type": "code",
   "execution_count": 27,
   "id": "c4e3a3cb",
   "metadata": {},
   "outputs": [
    {
     "data": {
      "text/plain": [
       "<pymongo.results.InsertManyResult at 0x7f94809a9e80>"
      ]
     },
     "execution_count": 27,
     "metadata": {},
     "output_type": "execute_result"
    }
   ],
   "source": [
    "state.insert_many(state_dict)"
   ]
  },
  {
   "cell_type": "code",
   "execution_count": 28,
   "id": "375b962d",
   "metadata": {},
   "outputs": [
    {
     "name": "stdout",
     "output_type": "stream",
     "text": [
      "{'_id': ObjectId('617a00339aeb17d63cca5007'), 'date': '2021-10-25', 'state': 'ME', 'total vaccines distributed': 2302770, 'total vaccines administered': 1919012, 'total vaccinated': 942546, 'pct vaccinated': 70.1, 'boosters administered': 68073, 'additional_doses_vax_pct': 7.2}\n",
      "{'_id': ObjectId('617a00339aeb17d63cca5008'), 'date': '2021-10-25', 'state': 'RI', 'total vaccines distributed': 1794565, 'total vaccines administered': 1536391, 'total vaccinated': 746384, 'pct vaccinated': 70.5, 'boosters administered': 54771, 'additional_doses_vax_pct': 7.3}\n",
      "{'_id': ObjectId('617a00339aeb17d63cca5009'), 'date': '2021-10-25', 'state': 'MS', 'total vaccines distributed': 4009685, 'total vaccines administered': 2930327, 'total vaccinated': 1348772, 'pct vaccinated': 45.3, 'boosters administered': 94057, 'additional_doses_vax_pct': 7.0}\n",
      "{'_id': ObjectId('617a00339aeb17d63cca500a'), 'date': '2021-10-25', 'state': 'NC', 'total vaccines distributed': 15385870, 'total vaccines administered': 12122081, 'total vaccinated': 5486743, 'pct vaccinated': 52.3, 'boosters administered': 276639, 'additional_doses_vax_pct': 5.0}\n",
      "{'_id': ObjectId('617a00339aeb17d63cca500b'), 'date': '2021-10-25', 'state': 'NV', 'total vaccines distributed': 4254060, 'total vaccines administered': 3580718, 'total vaccinated': 1618862, 'pct vaccinated': 52.6, 'boosters administered': 100396, 'additional_doses_vax_pct': 6.2}\n",
      "{'_id': ObjectId('617a00339aeb17d63cca500c'), 'date': '2021-10-25', 'state': 'SC', 'total vaccines distributed': 7398485, 'total vaccines administered': 5614897, 'total vaccinated': 2553535, 'pct vaccinated': 49.6, 'boosters administered': 234471, 'additional_doses_vax_pct': 9.2}\n",
      "{'_id': ObjectId('617a00339aeb17d63cca500d'), 'date': '2021-10-25', 'state': 'UT', 'total vaccines distributed': 4278230, 'total vaccines administered': 3641273, 'total vaccinated': 1700674, 'pct vaccinated': 53.0, 'boosters administered': 95849, 'additional_doses_vax_pct': 5.6}\n",
      "{'_id': ObjectId('617a00339aeb17d63cca500e'), 'date': '2021-10-25', 'state': 'CT', 'total vaccines distributed': 5979585, 'total vaccines administered': 5310937, 'total vaccinated': 2510279, 'pct vaccinated': 70.4, 'boosters administered': 186046, 'additional_doses_vax_pct': 7.4}\n",
      "{'_id': ObjectId('617a00339aeb17d63cca500f'), 'date': '2021-10-25', 'state': 'MO', 'total vaccines distributed': 8275355, 'total vaccines administered': 6672934, 'total vaccinated': 3035940, 'pct vaccinated': 49.5, 'boosters administered': 250840, 'additional_doses_vax_pct': 8.3}\n",
      "{'_id': ObjectId('617a00339aeb17d63cca5010'), 'date': '2021-10-25', 'state': 'OK', 'total vaccines distributed': 5266460, 'total vaccines administered': 4405452, 'total vaccinated': 1965685, 'pct vaccinated': 49.7, 'boosters administered': 163597, 'additional_doses_vax_pct': 8.3}\n",
      "{'_id': ObjectId('617a00339aeb17d63cca5011'), 'date': '2021-10-25', 'state': 'MT', 'total vaccines distributed': 1435885, 'total vaccines administered': 1158737, 'total vaccinated': 534432, 'pct vaccinated': 50.0, 'boosters administered': 52038, 'additional_doses_vax_pct': 9.7}\n",
      "{'_id': ObjectId('617a00339aeb17d63cca5012'), 'date': '2021-10-25', 'state': 'NY', 'total vaccines distributed': 31361205, 'total vaccines administered': 27199492, 'total vaccinated': 12876661, 'pct vaccinated': 66.2, 'boosters administered': 554373, 'additional_doses_vax_pct': 4.3}\n",
      "{'_id': ObjectId('617a00339aeb17d63cca5013'), 'date': '2021-10-25', 'state': 'DE', 'total vaccines distributed': 1632535, 'total vaccines administered': 1283811, 'total vaccinated': 580366, 'pct vaccinated': 59.6, 'boosters administered': 46267, 'additional_doses_vax_pct': 8.0}\n",
      "{'_id': ObjectId('617a00339aeb17d63cca5014'), 'date': '2021-10-25', 'state': 'CA', 'total vaccines distributed': 61486935, 'total vaccines administered': 53283990, 'total vaccinated': 24045250, 'pct vaccinated': 60.9, 'boosters administered': 1581280, 'additional_doses_vax_pct': 6.6}\n",
      "{'_id': ObjectId('617a00339aeb17d63cca5015'), 'date': '2021-10-25', 'state': 'AR', 'total vaccines distributed': 4323790, 'total vaccines administered': 3189087, 'total vaccinated': 1438561, 'pct vaccinated': 47.7, 'boosters administered': 111131, 'additional_doses_vax_pct': 7.7}\n",
      "{'_id': ObjectId('617a00339aeb17d63cca5016'), 'date': '2021-10-25', 'state': 'WV', 'total vaccines distributed': 3121575, 'total vaccines administered': 1587090, 'total vaccinated': 734280, 'pct vaccinated': 41.0, 'boosters administered': 41938, 'additional_doses_vax_pct': 5.7}\n",
      "{'_id': ObjectId('617a00339aeb17d63cca5017'), 'date': '2021-10-25', 'state': 'NM', 'total vaccines distributed': 3142365, 'total vaccines administered': 2957067, 'total vaccinated': 1376884, 'pct vaccinated': 65.7, 'boosters administered': 135036, 'additional_doses_vax_pct': 9.8}\n",
      "{'_id': ObjectId('617a00339aeb17d63cca5018'), 'date': '2021-10-25', 'state': 'AL', 'total vaccines distributed': 7058840, 'total vaccines administered': 4773728, 'total vaccinated': 2177980, 'pct vaccinated': 44.4, 'boosters administered': 154781, 'additional_doses_vax_pct': 7.1}\n",
      "{'_id': ObjectId('617a00339aeb17d63cca5019'), 'date': '2021-10-25', 'state': 'US', 'total vaccines distributed': 503418475, 'total vaccines administered': 414302192, 'total vaccinated': 190699790, 'pct vaccinated': 57.4, 'boosters administered': 13262718, 'additional_doses_vax_pct': 7.0}\n",
      "{'_id': ObjectId('617a00339aeb17d63cca501a'), 'date': '2021-10-25', 'state': 'ND', 'total vaccines distributed': 997460, 'total vaccines administered': 799769, 'total vaccinated': 349427, 'pct vaccinated': 45.9, 'boosters administered': 33814, 'additional_doses_vax_pct': 9.7}\n",
      "{'_id': ObjectId('617a00339aeb17d63cca501b'), 'date': '2021-10-25', 'state': 'MH', 'total vaccines distributed': 57140, 'total vaccines administered': 42025, 'total vaccinated': 20218, 'pct vaccinated': 34.6, 'boosters administered': 9, 'additional_doses_vax_pct': 0.0}\n",
      "{'_id': ObjectId('617a00339aeb17d63cca501c'), 'date': '2021-10-25', 'state': 'MA', 'total vaccines distributed': 11646150, 'total vaccines administered': 10260823, 'total vaccinated': 4780386, 'pct vaccinated': 69.4, 'boosters administered': 320061, 'additional_doses_vax_pct': 6.7}\n",
      "{'_id': ObjectId('617a00339aeb17d63cca501d'), 'date': '2021-10-25', 'state': 'OR', 'total vaccines distributed': 7108555, 'total vaccines administered': 5534888, 'total vaccinated': 2638467, 'pct vaccinated': 62.6, 'boosters administered': 218866, 'additional_doses_vax_pct': 8.3}\n",
      "{'_id': ObjectId('617a00339aeb17d63cca501e'), 'date': '2021-10-25', 'state': 'NH', 'total vaccines distributed': 2265530, 'total vaccines administered': 1884965, 'total vaccinated': 852140, 'pct vaccinated': 62.7, 'boosters administered': 11969, 'additional_doses_vax_pct': 1.4}\n",
      "{'_id': ObjectId('617a00339aeb17d63cca501f'), 'date': '2021-10-25', 'state': 'AZ', 'total vaccines distributed': 10500600, 'total vaccines administered': 8656911, 'total vaccinated': 3842005, 'pct vaccinated': 52.8, 'boosters administered': 274394, 'additional_doses_vax_pct': 7.1}\n",
      "{'_id': ObjectId('617a00339aeb17d63cca5020'), 'date': '2021-10-25', 'state': 'GA', 'total vaccines distributed': 15353515, 'total vaccines administered': 11223622, 'total vaccinated': 5051789, 'pct vaccinated': 47.6, 'boosters administered': 285731, 'additional_doses_vax_pct': 5.7}\n",
      "{'_id': ObjectId('617a00339aeb17d63cca5021'), 'date': '2021-10-25', 'state': 'IN', 'total vaccines distributed': 8881960, 'total vaccines administered': 7100607, 'total vaccinated': 3340289, 'pct vaccinated': 49.6, 'boosters administered': 268318, 'additional_doses_vax_pct': 8.0}\n",
      "{'_id': ObjectId('617a00339aeb17d63cca5022'), 'date': '2021-10-25', 'state': 'OH', 'total vaccines distributed': 15993115, 'total vaccines administered': 12757608, 'total vaccinated': 6033375, 'pct vaccinated': 51.6, 'boosters administered': 472788, 'additional_doses_vax_pct': 7.8}\n",
      "{'_id': ObjectId('617a00339aeb17d63cca5023'), 'date': '2021-10-25', 'state': 'MD', 'total vaccines distributed': 10598410, 'total vaccines administered': 8391832, 'total vaccinated': 3980189, 'pct vaccinated': 65.8, 'boosters administered': 293609, 'additional_doses_vax_pct': 7.4}\n",
      "{'_id': ObjectId('617a00339aeb17d63cca5024'), 'date': '2021-10-25', 'state': 'VA', 'total vaccines distributed': 13560485, 'total vaccines administered': 11525647, 'total vaccinated': 5349949, 'pct vaccinated': 62.7, 'boosters administered': 390330, 'additional_doses_vax_pct': 7.3}\n",
      "{'_id': ObjectId('617a00339aeb17d63cca5025'), 'date': '2021-10-25', 'state': 'PA', 'total vaccines distributed': 20443185, 'total vaccines administered': 17265727, 'total vaccinated': 7697728, 'pct vaccinated': 60.1, 'boosters administered': 350773, 'additional_doses_vax_pct': 4.6}\n",
      "{'_id': ObjectId('617a00339aeb17d63cca5026'), 'date': '2021-10-25', 'state': 'KS', 'total vaccines distributed': 4148765, 'total vaccines administered': 3277118, 'total vaccinated': 1540988, 'pct vaccinated': 52.9, 'boosters administered': 111914, 'additional_doses_vax_pct': 7.3}\n",
      "{'_id': ObjectId('617a00339aeb17d63cca5027'), 'date': '2021-10-25', 'state': 'NJ', 'total vaccines distributed': 14739795, 'total vaccines administered': 12103219, 'total vaccinated': 5865208, 'pct vaccinated': 66.0, 'boosters administered': 398362, 'additional_doses_vax_pct': 6.8}\n",
      "{'_id': ObjectId('617a00339aeb17d63cca5028'), 'date': '2021-10-25', 'state': 'KY', 'total vaccines distributed': 6185465, 'total vaccines administered': 5241800, 'total vaccinated': 2435390, 'pct vaccinated': 54.5, 'boosters administered': 198997, 'additional_doses_vax_pct': 8.2}\n",
      "{'_id': ObjectId('617a00339aeb17d63cca5029'), 'date': '2021-10-25', 'state': 'ID', 'total vaccines distributed': 2383680, 'total vaccines administered': 1681655, 'total vaccinated': 777294, 'pct vaccinated': 43.5, 'boosters administered': 77695, 'additional_doses_vax_pct': 10.0}\n",
      "{'_id': ObjectId('617a00339aeb17d63cca502a'), 'date': '2021-10-25', 'state': 'LA', 'total vaccines distributed': 6065500, 'total vaccines administered': 4797565, 'total vaccinated': 2202106, 'pct vaccinated': 47.4, 'boosters administered': 186048, 'additional_doses_vax_pct': 8.4}\n",
      "{'_id': ObjectId('617a00339aeb17d63cca502b'), 'date': '2021-10-25', 'state': 'TX', 'total vaccines distributed': 43802845, 'total vaccines administered': 33951683, 'total vaccinated': 15368246, 'pct vaccinated': 53.0, 'boosters administered': 1125846, 'additional_doses_vax_pct': 7.3}\n",
      "{'_id': ObjectId('617a00339aeb17d63cca502c'), 'date': '2021-10-25', 'state': 'WA', 'total vaccines distributed': 12133655, 'total vaccines administered': 10107737, 'total vaccinated': 4798342, 'pct vaccinated': 63.0, 'boosters administered': 346046, 'additional_doses_vax_pct': 7.2}\n",
      "{'_id': ObjectId('617a00339aeb17d63cca502d'), 'date': '2021-10-25', 'state': 'FL', 'total vaccines distributed': 34664565, 'total vaccines administered': 28141859, 'total vaccinated': 12756457, 'pct vaccinated': 59.4, 'boosters administered': 1010007, 'additional_doses_vax_pct': 7.9}\n",
      "{'_id': ObjectId('617a00339aeb17d63cca502e'), 'date': '2021-10-25', 'state': 'DC', 'total vaccines distributed': 1289905, 'total vaccines administered': 1051871, 'total vaccinated': 438005, 'pct vaccinated': 62.1, 'boosters administered': 23667, 'additional_doses_vax_pct': 5.4}\n",
      "{'_id': ObjectId('617a00339aeb17d63cca502f'), 'date': '2021-10-25', 'state': 'NE', 'total vaccines distributed': 2740510, 'total vaccines administered': 2288596, 'total vaccinated': 1082273, 'pct vaccinated': 55.9, 'boosters administered': 88670, 'additional_doses_vax_pct': 8.2}\n",
      "{'_id': ObjectId('617a00339aeb17d63cca5030'), 'date': '2021-10-25', 'state': 'HI', 'total vaccines distributed': 2490360, 'total vaccines administered': 1958424, 'total vaccinated': 842744, 'pct vaccinated': 59.5, 'boosters administered': 60768, 'additional_doses_vax_pct': 7.2}\n",
      "{'_id': ObjectId('617a00339aeb17d63cca5031'), 'date': '2021-10-25', 'state': 'WI', 'total vaccines distributed': 8043745, 'total vaccines administered': 7214379, 'total vaccinated': 3377995, 'pct vaccinated': 58.0, 'boosters administered': 329544, 'additional_doses_vax_pct': 9.8}\n",
      "{'_id': ObjectId('617a00339aeb17d63cca5032'), 'date': '2021-10-25', 'state': 'WY', 'total vaccines distributed': 716045, 'total vaccines administered': 557481, 'total vaccinated': 251741, 'pct vaccinated': 43.5, 'boosters administered': 23369, 'additional_doses_vax_pct': 9.3}\n",
      "{'_id': ObjectId('617a00339aeb17d63cca5033'), 'date': '2021-10-25', 'state': 'MN', 'total vaccines distributed': 8428160, 'total vaccines administered': 7070207, 'total vaccinated': 3359267, 'pct vaccinated': 59.6, 'boosters administered': 337444, 'additional_doses_vax_pct': 10.0}\n",
      "{'_id': ObjectId('617a00339aeb17d63cca5034'), 'date': '2021-10-25', 'state': 'CO', 'total vaccines distributed': 8761605, 'total vaccines administered': 7579455, 'total vaccinated': 3526977, 'pct vaccinated': 61.2, 'boosters administered': 329120, 'additional_doses_vax_pct': 9.3}\n",
      "{'_id': ObjectId('617a00339aeb17d63cca5035'), 'date': '2021-10-25', 'state': 'IA', 'total vaccines distributed': 4521285, 'total vaccines administered': 3630676, 'total vaccinated': 1741944, 'pct vaccinated': 55.2, 'boosters administered': 140910, 'additional_doses_vax_pct': 8.1}\n",
      "{'_id': ObjectId('617a00339aeb17d63cca5036'), 'date': '2021-10-25', 'state': 'IL', 'total vaccines distributed': 18958985, 'total vaccines administered': 15703827, 'total vaccinated': 6897684, 'pct vaccinated': 54.4, 'boosters administered': 269323, 'additional_doses_vax_pct': 3.9}\n",
      "{'_id': ObjectId('617a00339aeb17d63cca5037'), 'date': '2021-10-25', 'state': 'MI', 'total vaccines distributed': 14303410, 'total vaccines administered': 11268319, 'total vaccinated': 5322469, 'pct vaccinated': 53.3, 'boosters administered': 499316, 'additional_doses_vax_pct': 9.4}\n",
      "{'_id': ObjectId('617a00339aeb17d63cca5038'), 'date': '2021-10-25', 'state': 'VT', 'total vaccines distributed': 1128950, 'total vaccines administered': 956952, 'total vaccinated': 442528, 'pct vaccinated': 70.9, 'boosters administered': 46323, 'additional_doses_vax_pct': 10.5}\n",
      "{'_id': ObjectId('617a00339aeb17d63cca5039'), 'date': '2021-10-25', 'state': 'TN', 'total vaccines distributed': 9149530, 'total vaccines administered': 7292825, 'total vaccinated': 3229283, 'pct vaccinated': 47.3, 'boosters administered': 293079, 'additional_doses_vax_pct': 9.1}\n",
      "{'_id': ObjectId('617a00339aeb17d63cca503a'), 'date': '2021-10-25', 'state': 'AK', 'total vaccines distributed': 1130765, 'total vaccines administered': 856505, 'total vaccinated': 383032, 'pct vaccinated': 52.4, 'boosters administered': 42857, 'additional_doses_vax_pct': 11.2}\n",
      "{'_id': ObjectId('617a00339aeb17d63cca503b'), 'date': '2021-10-25', 'state': 'SD', 'total vaccines distributed': 1290315, 'total vaccines administered': 1003680, 'total vaccinated': 462096, 'pct vaccinated': 52.2, 'boosters administered': 36818, 'additional_doses_vax_pct': 8.0}\n"
     ]
    }
   ],
   "source": [
    "state_results = state.find()\n",
    "for result in state_results:\n",
    "    print(result)"
   ]
  },
  {
   "cell_type": "code",
   "execution_count": null,
   "id": "6f0fc813",
   "metadata": {},
   "outputs": [],
   "source": []
  }
 ],
 "metadata": {
  "kernelspec": {
   "display_name": "Python 3",
   "language": "python",
   "name": "python3"
  },
  "language_info": {
   "codemirror_mode": {
    "name": "ipython",
    "version": 3
   },
   "file_extension": ".py",
   "mimetype": "text/x-python",
   "name": "python",
   "nbconvert_exporter": "python",
   "pygments_lexer": "ipython3",
   "version": "3.8.8"
  }
 },
 "nbformat": 4,
 "nbformat_minor": 5
}
