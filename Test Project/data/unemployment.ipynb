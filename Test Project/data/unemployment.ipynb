{
 "cells": [
  {
   "cell_type": "code",
   "execution_count": 4,
   "id": "693bdff4",
   "metadata": {},
   "outputs": [
    {
     "name": "stdout",
     "output_type": "stream",
     "text": [
      "Collecting census\n",
      "  Downloading census-0.8.18-py3-none-any.whl (11 kB)\n",
      "Requirement already satisfied: requests>=1.1.0 in c:\\users\\pippi\\anaconda3\\lib\\site-packages (from census) (2.25.1)\n",
      "Requirement already satisfied: idna<3,>=2.5 in c:\\users\\pippi\\anaconda3\\lib\\site-packages (from requests>=1.1.0->census) (2.10)\n",
      "Requirement already satisfied: urllib3<1.27,>=1.21.1 in c:\\users\\pippi\\anaconda3\\lib\\site-packages (from requests>=1.1.0->census) (1.26.4)\n",
      "Requirement already satisfied: chardet<5,>=3.0.2 in c:\\users\\pippi\\anaconda3\\lib\\site-packages (from requests>=1.1.0->census) (4.0.0)\n",
      "Requirement already satisfied: certifi>=2017.4.17 in c:\\users\\pippi\\anaconda3\\lib\\site-packages (from requests>=1.1.0->census) (2020.12.5)\n",
      "Installing collected packages: census\n",
      "Successfully installed census-0.8.18\n"
     ]
    }
   ],
   "source": [
    "!pip install census"
   ]
  },
  {
   "cell_type": "code",
   "execution_count": 9,
   "id": "cd686d3b",
   "metadata": {},
   "outputs": [
    {
     "name": "stdout",
     "output_type": "stream",
     "text": [
      "Collecting us\n",
      "  Using cached us-2.0.2.tar.gz (14 kB)\n",
      "Collecting jellyfish==0.6.1\n",
      "  Using cached jellyfish-0.6.1.tar.gz (132 kB)\n",
      "Building wheels for collected packages: us, jellyfish\n",
      "  Building wheel for us (setup.py): started\n",
      "  Building wheel for us (setup.py): finished with status 'done'\n",
      "  Created wheel for us: filename=us-2.0.2-py3-none-any.whl size=11929 sha256=1812341d0d46169f2f035259d646e3b2a3900f5f7e7b6888fb299ed5e1458379\n",
      "  Stored in directory: c:\\users\\pippi\\appdata\\local\\pip\\cache\\wheels\\07\\4c\\fa\\a65ed0f9c00360e785327fc370eba55ca575cc3508ab13ed8e\n",
      "  Building wheel for jellyfish (setup.py): started\n",
      "  Building wheel for jellyfish (setup.py): finished with status 'done'\n",
      "  Created wheel for jellyfish: filename=jellyfish-0.6.1-py3-none-any.whl size=10380 sha256=904bfb36444f3be61821764d8b06dcfdb768d5b7feb3f20f8d5b683b1f1a4203\n",
      "  Stored in directory: c:\\users\\pippi\\appdata\\local\\pip\\cache\\wheels\\aa\\a9\\a6\\359d736dbeda356e6ab8a7ff70a3db636cefe91df7d09f63dc\n",
      "Successfully built us jellyfish\n",
      "Installing collected packages: jellyfish, us\n",
      "Successfully installed jellyfish-0.6.1 us-2.0.2\n"
     ]
    }
   ],
   "source": [
    "!pip install us"
   ]
  },
  {
   "cell_type": "code",
   "execution_count": 8,
   "id": "148d9993",
   "metadata": {},
   "outputs": [],
   "source": [
    "# Dependables\n",
    "import numpy as np\n",
    "import pandas as pd\n",
    "import matplotlib.pyplot as plt\n",
    "import requests\n",
    "from census import Census\n",
    "\n",
    "# Census API Key\n",
    "from config import census_key\n",
    "c = Census(census_key, year=2019)"
   ]
  },
  {
   "cell_type": "code",
   "execution_count": 19,
   "id": "82b28801",
   "metadata": {},
   "outputs": [],
   "source": [
    "# Get the 2019 ACS Data for alls tates\n",
    "census_data = c.acs.get((\"NAME\", \"B01003_001E\",\"B19013_001E\", \"B23025_002E\",\"B23025_005E\", \"B17001_002E\"), {'for': 'state:*'})"
   ]
  },
  {
   "cell_type": "code",
   "execution_count": 20,
   "id": "68bdab85",
   "metadata": {},
   "outputs": [],
   "source": [
    "# Convert data into a dataframe\n",
    "census_df = pd.DataFrame(census_data)"
   ]
  },
  {
   "cell_type": "code",
   "execution_count": 21,
   "id": "e48a26ea",
   "metadata": {},
   "outputs": [],
   "source": [
    "# Rename Columns\n",
    "census_df = census_df.rename(columns={\n",
    "    \"NAME\": \"State\",\n",
    "    \"state\": \"State Number\",\n",
    "    \"B01003_001E\": \"Total Population\",\n",
    "    \"B19013_001E\": \"Median Household Income\",\n",
    "    \"B23025_002E\": \"Total Labor Force\",\n",
    "    \"B23025_005E\": \"Total Unemployed\",\n",
    "    \"B17001_002E\": \"Total Poverty\"\n",
    "})"
   ]
  },
  {
   "cell_type": "code",
   "execution_count": 22,
   "id": "758a2bfd",
   "metadata": {},
   "outputs": [
    {
     "data": {
      "text/html": [
       "<div>\n",
       "<style scoped>\n",
       "    .dataframe tbody tr th:only-of-type {\n",
       "        vertical-align: middle;\n",
       "    }\n",
       "\n",
       "    .dataframe tbody tr th {\n",
       "        vertical-align: top;\n",
       "    }\n",
       "\n",
       "    .dataframe thead th {\n",
       "        text-align: right;\n",
       "    }\n",
       "</style>\n",
       "<table border=\"1\" class=\"dataframe\">\n",
       "  <thead>\n",
       "    <tr style=\"text-align: right;\">\n",
       "      <th></th>\n",
       "      <th>State</th>\n",
       "      <th>Total Population</th>\n",
       "      <th>Median Household Income</th>\n",
       "      <th>Total Labor Force</th>\n",
       "      <th>Total Unemployed</th>\n",
       "      <th>Total Poverty</th>\n",
       "      <th>State Number</th>\n",
       "    </tr>\n",
       "  </thead>\n",
       "  <tbody>\n",
       "    <tr>\n",
       "      <th>0</th>\n",
       "      <td>Alabama</td>\n",
       "      <td>4876250.0</td>\n",
       "      <td>50536.0</td>\n",
       "      <td>2242785.0</td>\n",
       "      <td>132095.0</td>\n",
       "      <td>795989.0</td>\n",
       "      <td>01</td>\n",
       "    </tr>\n",
       "    <tr>\n",
       "      <th>1</th>\n",
       "      <td>Alaska</td>\n",
       "      <td>737068.0</td>\n",
       "      <td>77640.0</td>\n",
       "      <td>392338.0</td>\n",
       "      <td>26808.0</td>\n",
       "      <td>76933.0</td>\n",
       "      <td>02</td>\n",
       "    </tr>\n",
       "    <tr>\n",
       "      <th>2</th>\n",
       "      <td>Arizona</td>\n",
       "      <td>7050299.0</td>\n",
       "      <td>58945.0</td>\n",
       "      <td>3346155.0</td>\n",
       "      <td>195905.0</td>\n",
       "      <td>1043764.0</td>\n",
       "      <td>04</td>\n",
       "    </tr>\n",
       "    <tr>\n",
       "      <th>3</th>\n",
       "      <td>Arkansas</td>\n",
       "      <td>2999370.0</td>\n",
       "      <td>47597.0</td>\n",
       "      <td>1378722.0</td>\n",
       "      <td>70481.0</td>\n",
       "      <td>496260.0</td>\n",
       "      <td>05</td>\n",
       "    </tr>\n",
       "    <tr>\n",
       "      <th>4</th>\n",
       "      <td>California</td>\n",
       "      <td>39283497.0</td>\n",
       "      <td>75235.0</td>\n",
       "      <td>19921547.0</td>\n",
       "      <td>1199233.0</td>\n",
       "      <td>5149742.0</td>\n",
       "      <td>06</td>\n",
       "    </tr>\n",
       "  </tbody>\n",
       "</table>\n",
       "</div>"
      ],
      "text/plain": [
       "        State  Total Population  Median Household Income  Total Labor Force  \\\n",
       "0     Alabama         4876250.0                  50536.0          2242785.0   \n",
       "1      Alaska          737068.0                  77640.0           392338.0   \n",
       "2     Arizona         7050299.0                  58945.0          3346155.0   \n",
       "3    Arkansas         2999370.0                  47597.0          1378722.0   \n",
       "4  California        39283497.0                  75235.0         19921547.0   \n",
       "\n",
       "   Total Unemployed  Total Poverty State Number  \n",
       "0          132095.0       795989.0           01  \n",
       "1           26808.0        76933.0           02  \n",
       "2          195905.0      1043764.0           04  \n",
       "3           70481.0       496260.0           05  \n",
       "4         1199233.0      5149742.0           06  "
      ]
     },
     "execution_count": 22,
     "metadata": {},
     "output_type": "execute_result"
    }
   ],
   "source": [
    "census_df.head()"
   ]
  },
  {
   "cell_type": "code",
   "execution_count": 23,
   "id": "7b243275",
   "metadata": {},
   "outputs": [],
   "source": [
    "#Calculate the Poverty Rate\n",
    "census_df[\"Poverty Rate\"] = 100 * census_df[\"Total Poverty\"].astype(int) / census_df[\"Total Population\"].astype(int)"
   ]
  },
  {
   "cell_type": "code",
   "execution_count": 24,
   "id": "3ce49e1b",
   "metadata": {},
   "outputs": [
    {
     "name": "stdout",
     "output_type": "stream",
     "text": [
      "0     16.323794\n",
      "1     10.437707\n",
      "2     14.804535\n",
      "3     16.545475\n",
      "4     13.109174\n",
      "5     10.086235\n",
      "6     11.428595\n",
      "7     15.467393\n",
      "8      9.626262\n",
      "9     13.733313\n",
      "10    14.692238\n",
      "11    12.880571\n",
      "12     9.187086\n",
      "13    12.198873\n",
      "14    13.021822\n",
      "15    11.088425\n",
      "16    11.603551\n",
      "17    16.790318\n",
      "18    18.683520\n",
      "19    11.466261\n",
      "20     8.971667\n",
      "21     9.940249\n",
      "22    14.034017\n",
      "23     9.455856\n",
      "24    19.628149\n",
      "25    13.268746\n",
      "26    12.811605\n",
      "27    10.789832\n",
      "28    12.942145\n",
      "29     7.319950\n",
      "30     9.788598\n",
      "31    18.737091\n",
      "32    13.699332\n",
      "33    14.297211\n",
      "34    10.333850\n",
      "35    13.627532\n",
      "36    15.214665\n",
      "37    12.918946\n",
      "38    12.032830\n",
      "39    11.901467\n",
      "40    14.771533\n",
      "41    12.697930\n",
      "42    14.858803\n",
      "43    14.409309\n",
      "44    10.515879\n",
      "45     9.640028\n",
      "46    10.239456\n",
      "47    10.605519\n",
      "48    17.060647\n",
      "49    11.037668\n",
      "50    10.715048\n",
      "51    43.667746\n",
      "Name: Poverty Rate, dtype: float64\n"
     ]
    }
   ],
   "source": [
    "print(census_df[\"Poverty Rate\"])"
   ]
  },
  {
   "cell_type": "code",
   "execution_count": 25,
   "id": "b99c4ae8",
   "metadata": {},
   "outputs": [],
   "source": [
    "# Calculate the unemployment rate\n",
    "census_df[\"Unemployment Rate\"] = 100 * census_df[\"Total Unemployed\"].astype(int) / census_df[\"Total Labor Force\"].astype(int)"
   ]
  },
  {
   "cell_type": "code",
   "execution_count": 26,
   "id": "2ee8c6ab",
   "metadata": {},
   "outputs": [
    {
     "name": "stdout",
     "output_type": "stream",
     "text": [
      "0      5.889775\n",
      "1      6.832884\n",
      "2      5.854630\n",
      "3      5.112053\n",
      "4      6.019778\n",
      "5      4.279700\n",
      "6      5.454006\n",
      "7      6.856270\n",
      "8      6.000335\n",
      "9      5.550085\n",
      "10     5.615187\n",
      "11     4.310898\n",
      "12     4.024790\n",
      "13     5.927515\n",
      "14     4.791388\n",
      "15     3.728709\n",
      "16     4.013844\n",
      "17     5.544601\n",
      "18     6.433424\n",
      "19     4.124232\n",
      "20     5.028579\n",
      "21     4.823950\n",
      "22     5.933653\n",
      "23     3.616737\n",
      "24     7.405854\n",
      "25     4.546517\n",
      "26     4.007100\n",
      "27     3.322277\n",
      "28     6.131538\n",
      "29     3.613580\n",
      "30     5.503226\n",
      "31     6.596473\n",
      "32     5.437452\n",
      "33     5.473843\n",
      "34     2.713834\n",
      "35     5.313585\n",
      "36     5.028506\n",
      "37     5.463797\n",
      "38     5.300738\n",
      "39     5.362494\n",
      "40     5.699931\n",
      "41     3.403924\n",
      "42     5.233953\n",
      "43     5.042932\n",
      "44     3.603933\n",
      "45     3.566560\n",
      "46     4.486010\n",
      "47     4.885408\n",
      "48     6.536746\n",
      "49     3.602193\n",
      "50     4.440598\n",
      "51    16.046222\n",
      "Name: Unemployment Rate, dtype: float64\n"
     ]
    }
   ],
   "source": [
    "print(census_df[\"Unemployment Rate\"])"
   ]
  },
  {
   "cell_type": "code",
   "execution_count": 27,
   "id": "4bb37ec1",
   "metadata": {},
   "outputs": [
    {
     "name": "stdout",
     "output_type": "stream",
     "text": [
      "        State  Total Population  Median Household Income  Total Labor Force  \\\n",
      "0     Alabama         4876250.0                  50536.0          2242785.0   \n",
      "1      Alaska          737068.0                  77640.0           392338.0   \n",
      "2     Arizona         7050299.0                  58945.0          3346155.0   \n",
      "3    Arkansas         2999370.0                  47597.0          1378722.0   \n",
      "4  California        39283497.0                  75235.0         19921547.0   \n",
      "\n",
      "   Total Unemployed  Total Poverty State Number  Poverty Rate  \\\n",
      "0          132095.0       795989.0           01     16.323794   \n",
      "1           26808.0        76933.0           02     10.437707   \n",
      "2          195905.0      1043764.0           04     14.804535   \n",
      "3           70481.0       496260.0           05     16.545475   \n",
      "4         1199233.0      5149742.0           06     13.109174   \n",
      "\n",
      "   Unemployment Rate  \n",
      "0           5.889775  \n",
      "1           6.832884  \n",
      "2           5.854630  \n",
      "3           5.112053  \n",
      "4           6.019778  \n"
     ]
    }
   ],
   "source": [
    "print(census_df.head())"
   ]
  },
  {
   "cell_type": "code",
   "execution_count": 28,
   "id": "1bb886c9",
   "metadata": {},
   "outputs": [],
   "source": [
    "# Save as a csv\n",
    "census_df.to_csv(\"census_data.csv\", encoding=\"utf-8\", index = False)"
   ]
  },
  {
   "cell_type": "code",
   "execution_count": null,
   "id": "eaf484b4",
   "metadata": {},
   "outputs": [],
   "source": [
    "# HOST = \"https://api.census.gov/data/\"\n",
    "# year = \"2019\"\n",
    "# dataset = \"acs/acs1\"\n",
    "# base_url = \"/\".join([HOST, year, dataset])\n",
    "\n",
    "# get_vars = [\"NAME\", \"\"]"
   ]
  },
  {
   "cell_type": "code",
   "execution_count": null,
   "id": "6ed199e8",
   "metadata": {},
   "outputs": [],
   "source": [
    "# POVERTY STATUS IN THE PAST 12 MONTHS BY SEX BY AGE, TOTAL: B17001_001E"
   ]
  },
  {
   "cell_type": "code",
   "execution_count": null,
   "id": "ae8244db",
   "metadata": {},
   "outputs": [],
   "source": [
    "# SEX BY AGE BY EMPLOYMENT STATUS FOR THE POPULATION 16 YEARS AND OVER: SEX BY AGE BY EMPLOYMENT STATUS FOR THE POPULATION 16 YEARS AND OVER"
   ]
  }
 ],
 "metadata": {
  "kernelspec": {
   "display_name": "Python 3",
   "language": "python",
   "name": "python3"
  },
  "language_info": {
   "codemirror_mode": {
    "name": "ipython",
    "version": 3
   },
   "file_extension": ".py",
   "mimetype": "text/x-python",
   "name": "python",
   "nbconvert_exporter": "python",
   "pygments_lexer": "ipython3",
   "version": "3.8.8"
  }
 },
 "nbformat": 4,
 "nbformat_minor": 5
}
